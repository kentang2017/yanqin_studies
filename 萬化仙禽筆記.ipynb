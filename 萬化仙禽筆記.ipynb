{
 "cells": [
  {
   "cell_type": "markdown",
   "metadata": {},
   "source": [
    "胃翼牛觜亢室鬼心婁張斗畢\n",
    "角危井房奎星箕昴軫虛參氐\n",
    "壁柳尾(沒有女土幅)"
   ]
  },
  {
   "cell_type": "code",
   "execution_count": 7,
   "metadata": {},
   "outputs": [],
   "source": [
    "starting_point = 1324\n",
    "shun = [\"甲子\",\"甲戌\", \"甲申\", \"甲午\", \"甲辰\", \"甲寅\"]\n",
    "chin_order = list(\"胃翼牛觜亢室鬼心婁張斗畢角危井房奎星箕昴軫虛參氐壁柳尾\")\n",
    "chin = list('角亢氐房心尾箕斗牛女虛危室壁奎婁胃昴畢觜參井鬼柳星張翼軫')\n"
   ]
  },
  {
   "cell_type": "code",
   "execution_count": 8,
   "metadata": {},
   "outputs": [
    {
     "data": {
      "text/plain": [
       "27"
      ]
     },
     "execution_count": 8,
     "metadata": {},
     "output_type": "execute_result"
    }
   ],
   "source": []
  },
  {
   "cell_type": "code",
   "execution_count": null,
   "metadata": {},
   "outputs": [],
   "source": [
    "\t   甲子 甲戌 甲申\t甲午 甲辰 甲寅\n",
    "1324\t胃\t翼\t牛\t觜\t亢\t室 (上)\n",
    "1384\t鬼\t心\t婁\t張\t斗\t畢 (中)\n",
    "1444\t角\t危\t井\t房\t奎\t星 (下)\n",
    "1504\t箕\t昴\t軫\t虛\t參\t氐 上\n",
    "1564\t壁\t柳\t尾\t胃\t翼\t牛 中\n",
    "1624\t觜\t亢\t室\t鬼\t心\t婁 下\n",
    "1684\t張\t斗\t畢\t角\t危\t井 上\n",
    "1744\t房\t奎\t星\t箕\t昴\t軫 中\n",
    "1804\t虛\t參\t氐\t壁\t柳\t尾 下\n",
    "1864\t胃\t翼\t牛\t觜\t亢\t室 上\n",
    "1924\t鬼\t心\t婁\t張\t斗\t畢 中\n",
    "1984\t角\t危\t井\t房\t奎\t星 下\n",
    "2044\t箕\t昴\t軫\t虛\t參\t氐\n"
   ]
  },
  {
   "cell_type": "markdown",
   "metadata": {},
   "source": [
    "以上述表格換算，2020年在下元，年禽為虛"
   ]
  },
  {
   "cell_type": "code",
   "execution_count": 3,
   "metadata": {},
   "outputs": [],
   "source": [
    "def jiazi():\n",
    "    tiangan = '甲乙丙丁戊己庚辛壬癸'\n",
    "    dizhi = '子丑寅卯辰巳午未申酉戌亥'\n",
    "    jiazi = [tiangan[x % len(tiangan)] + dizhi[x % len(dizhi)] for x in range(60)]\n",
    "    return jiazi"
   ]
  },
  {
   "cell_type": "code",
   "execution_count": 6,
   "metadata": {},
   "outputs": [],
   "source": [
    "chin_temple = {\n",
    " '乙丑':'斗',\n",
    " '丙寅':'尾',\n",
    " '丁卯':'房',\n",
    " '辛未':'鬼',\n",
    " '壬申':'參',\n",
    " '癸酉':'畢',\n",
    " '甲戌':'奎',\n",
    " '丙子':'虛',\n",
    " '丁丑':'翼',\n",
    " '己卯':'氐',\n",
    " '庚辰':'亢',\n",
    " '壬午':'張',\n",
    " '丁亥':'室',\n",
    " '戊子':'女',\n",
    " '癸巳':'軫',\n",
    " '乙未':'井',\n",
    " '丙申':'觜',\n",
    " '丁酉':'昴',\n",
    " '辛丑':'牛',\n",
    " '壬寅':'箕',\n",
    " '癸卯':'心',\n",
    " '甲辰':'角',\n",
    " '丙午':'星',\n",
    " '己酉':'胃',\n",
    " '庚戌':'婁',\n",
    " '壬子':'危',\n",
    " '戊午':'柳',\n",
    " '癸亥':'壁'}"
   ]
  },
  {
   "cell_type": "code",
   "execution_count": null,
   "metadata": {},
   "outputs": [],
   "source": [
    "五虎遁\n",
    "甲年和己年的正月是丙寅月\n",
    "乙年和庚年的正月是戊寅月\n",
    "丙年和辛年的正月是庚寅月\n",
    "丁年和壬年的正月是壬寅月\n",
    "戊年和癸年的正月是甲寅月"
   ]
  },
  {
   "cell_type": "code",
   "execution_count": null,
   "metadata": {},
   "outputs": [],
   "source": [
    "求下元乙丑年七月十一日 主星\n",
    "正月丑, 二月寅, 三月卯, 四月辰, 五月巳, 六月午, 七月未\n",
    "正月戊寅, 主宮癸未, 甲子起角起 後數十一為危，危後宿為子起數至未，即\n",
    "\n",
    "主宮未\n",
    "命宮寅\n",
    "\n",
    "胎星觜 \n",
    "命星壁\n",
    "\n",
    "身宮申 (月建寅起數生月)\n",
    "身星參 (命星前一宮再數身宮數)\n",
    "蔭宮戌 (日後一辰)\n",
    "蔭星室 (甲子角後起子演至戌)\n",
    "\n",
    "\n",
    "起息子 (時後一辰)\n",
    "起息張   (胎星五行生者宿起計,觜>柳, 柳計 )\n",
    "夫妻心\n",
    "\n",
    "福德畢 (找上宿生胎星起數至辰宮 )\n",
    "田宅張 (在辰數至亥)\n",
    "官祿畢 (找上宿被克胎星數至巳)\n",
    "遷移觜 (再數至午)\n",
    "疾厄參 (再數至未)\n",
    "財帛胃 (找胎星所克的前宿數至丑)\n",
    "奴僕柳 (再數至申)\n",
    "妻妾星 (再數至酉)\n",
    "兄弟室 (胎星前比和宿)\n",
    "相貌婁 (再數至卯)\n",
    "子孫翼  (胎星所生之前宿，數至戌)\n",
    "\n",
    "一命\n",
    "二財\n",
    "三兄\n",
    "四田\n",
    "五男\n",
    "六奴\n",
    "七妻\n",
    "八疾\n",
    "九遷\n",
    "十官\n",
    "十一福\n",
    "十二相\n",
    "\n",
    "觜泊癸未宮，二歲谚癸未"
   ]
  },
  {
   "cell_type": "code",
   "execution_count": null,
   "metadata": {},
   "outputs": [],
   "source": [
    "'子丑寅卯辰巳午未申酉戌亥'"
   ]
  },
  {
   "cell_type": "code",
   "execution_count": null,
   "metadata": {},
   "outputs": [],
   "source": [
    "夫妻合宿 角昴, 亢胃, 氐婁, 房奎, 心壁, 尾室, 箕危, 斗虛, 牛女, 畢軫, 星井, 柳鬼, 參張, 翼觜"
   ]
  }
 ],
 "metadata": {
  "kernelspec": {
   "display_name": "Python 3",
   "language": "python",
   "name": "python3"
  },
  "language_info": {
   "codemirror_mode": {
    "name": "ipython",
    "version": 3
   },
   "file_extension": ".py",
   "mimetype": "text/x-python",
   "name": "python",
   "nbconvert_exporter": "python",
   "pygments_lexer": "ipython3",
   "version": "3.7.3"
  }
 },
 "nbformat": 4,
 "nbformat_minor": 2
}
